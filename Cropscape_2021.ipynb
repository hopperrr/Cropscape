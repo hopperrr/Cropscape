{
  "cells": [
    {
      "cell_type": "markdown",
      "metadata": {
        "id": "view-in-github",
        "colab_type": "text"
      },
      "source": [
        "<a href=\"https://colab.research.google.com/github/hopperrr/Cropscape/blob/main/Cropscape_2021.ipynb\" target=\"_parent\"><img src=\"https://colab.research.google.com/assets/colab-badge.svg\" alt=\"Open In Colab\"/></a>"
      ]
    },
    {
      "cell_type": "markdown",
      "metadata": {
        "id": "2faJWK8jxCx0"
      },
      "source": [
        "Source: https://www.nass.usda.gov/Research_and_Science/Cropland/Release/index.php\n",
        "\n",
        "Import data and convert to vector"
      ]
    },
    {
      "cell_type": "code",
      "execution_count": null,
      "metadata": {
        "id": "o8R_-C7cXTRM"
      },
      "outputs": [],
      "source": [
        "!pip install leafmap\n",
        "!pip install geopandas\n",
        "!pip install topojson\n",
        "!pip install rasterio"
      ]
    },
    {
      "cell_type": "code",
      "execution_count": null,
      "metadata": {
        "id": "uGJ3G8Juwyr_"
      },
      "outputs": [],
      "source": [
        "#These are for the previous year\n",
        "#!wget -r --passive-ftp --no-parent ftp://ftp.nass.usda.gov/download/res/2020_30m_cdls.zip\n",
        "#!unzip /content/ftp.nass.usda.gov/download/res/2020_30m_cdls.zip"
      ]
    },
    {
      "cell_type": "code",
      "execution_count": null,
      "metadata": {
        "id": "s2oqy2_Twn1l",
        "colab": {
          "base_uri": "https://localhost:8080/"
        },
        "outputId": "c44eda85-c240-4858-b04b-ea55a2554a1c"
      },
      "outputs": [
        {
          "output_type": "stream",
          "name": "stdout",
          "text": [
            "--2022-12-02 17:25:56--  https://www.nass.usda.gov/Research_and_Science/Cropland/Release/datasets/2021_30m_cdls.zip\n",
            "Resolving www.nass.usda.gov (www.nass.usda.gov)... 23.11.5.237, 2600:1407:21:293::2938, 2600:1407:21:296::2938, ...\n",
            "Connecting to www.nass.usda.gov (www.nass.usda.gov)|23.11.5.237|:443... connected.\n",
            "HTTP request sent, awaiting response... 200 OK\n",
            "Length: 2021909155 (1.9G) [application/zip]\n",
            "Saving to: ‘2021_30m_cdls.zip’\n",
            "\n",
            "2021_30m_cdls.zip   100%[===================>]   1.88G   156MB/s    in 13s     \n",
            "\n",
            "2022-12-02 17:26:09 (152 MB/s) - ‘2021_30m_cdls.zip’ saved [2021909155/2021909155]\n",
            "\n",
            "Archive:  /content/2021_30m_cdls.zip\n",
            "  inflating: 2021_30m_cdls.aux       \n",
            "  inflating: 2021_30m_cdls.tfw       \n",
            "  inflating: 2021_30m_cdls.tif       \n",
            "  inflating: 2021_30m_cdls.tif.ovr   \n",
            "  inflating: Metadata_Cropland-Data-Layer.htm  \n"
          ]
        }
      ],
      "source": [
        "!wget https://www.nass.usda.gov/Research_and_Science/Cropland/Release/datasets/2021_30m_cdls.zip\n",
        "!unzip /content/2021_30m_cdls.zip"
      ]
    },
    {
      "cell_type": "code",
      "execution_count": null,
      "metadata": {
        "id": "h1-vdf41D74m"
      },
      "outputs": [],
      "source": [
        "#!gdalinfo /content/2021_30m_cdls.tif\n",
        "#-124.33178,40.60876,-2342121.079,2306906.974\n",
        "#-117.63348,34.86635,-1944707.060,1534157.491\n",
        "# All California: -2409339.999,2475047.395 -1454152.696,1098537.576\n",
        "#!gdal_translate -a_nodata 0 -projwin -2409339.999 2475047.395 -1454152.696 1098537.576 /vsizip//content/ftp.nass.usda.gov/download/res/2020_30m_cdls.zip/2020_30m_cdls.img nozero.tif"
      ]
    },
    {
      "cell_type": "code",
      "execution_count": null,
      "metadata": {
        "colab": {
          "base_uri": "https://localhost:8080/"
        },
        "id": "ozWMRP38Xtt5",
        "outputId": "e266017a-e83b-4ccc-d735-959670e4b859"
      },
      "outputs": [
        {
          "output_type": "stream",
          "name": "stdout",
          "text": [
            "Input file size is 153811, 96523\n",
            "0...10...20...30...40...50...60...70...80...90...100 - done.\n"
          ]
        }
      ],
      "source": [
        "#EPSG:5070 !!! Change projection to this in QGIS to get an area you want to use\n",
        "# All California: -2409339.999,2475047.395 -1454152.696,1098537.576\n",
        "#small area in California agriculture along I-5: -2142052.102 1742202.181 -2121636.040 1722420.946\n",
        "#-2115469,1671449 -2071716,1620056\n",
        "#California near Grapevine along I-5 -2092987 1634209 -2045674 1567343\n",
        "#south carolina part 1339487.803 1239981.510 1542041.864 1082000.627\n",
        "#-2070704,1600412 -2063878,1595326\n",
        "#-2124863,1674290 -2051163,1587028\n",
        "#-2107999 1665903 -2038583 1596575\n",
        "#Ventura area -2120053,1518434 -2076298,1469535\n",
        "# big -13515585 4525843 -13221363 4232766\n",
        "#Modesto agriculture -2184911,1933615 -2114329,1841737\n",
        "#Napa down to below Modesto (get the vineyards) -2296461,2042672 -2029010,1723335\n",
        "#!gdal_translate -a_nodata 0 -projwin -2107999 1665903 -2038583 1596575 /content/2021_30m_cdls.tif nozero.tif\n",
        "#!gdal_translate -a_nodata 0 -projwin -2228302 1853050 -2197939 1827370 /content/2021_30m_cdls.tif nozero.tif\n",
        "#!gdal_translate -a_nodata 0 -projwin -2184911 1933615 -2114329 1841737 /content/2021_30m_cdls.tif nozero.tif\n",
        "# crashed after using all avail RAM !gdal_translate -a_nodata 0 -projwin -2262290 2260492 -1974464 1553168 /content/2021_30m_cdls.tif nozero.tif\n",
        "!gdal_translate -a_nodata 0 -projwin -2120053 1518434 -2076298 1469535 /content/2021_30m_cdls.tif nozero.tif"
      ]
    },
    {
      "cell_type": "code",
      "source": [
        "#9/22/2022 Use this for exporting\n",
        "#Much faster than polygonize!\n",
        "import gdal\n",
        "import pandas as pd\n",
        "import geopandas\n",
        "import matplotlib.pyplot as plt\n",
        "import numpy as np\n",
        "import os\n",
        "from google.colab import files\n",
        "\n",
        "import rasterio\n",
        "from rasterio.features import shapes\n",
        "mask = None\n",
        "results=None\n",
        "with rasterio.Env():\n",
        "    with rasterio.open('/content/nozero.tif') as src:\n",
        "        image = src.read(1) # first band\n",
        "        results = (\n",
        "     \n",
        "        {'properties': {'DN': v}, 'geometry': s}\n",
        "        for i, (s, v) \n",
        "        in enumerate(\n",
        "            shapes(image, mask=mask, transform=src.transform)))\n",
        "        \n",
        "geoms=list(results)        \n",
        "\n",
        "import geopandas as gp\n",
        "\n",
        "gdf = geopandas.GeoDataFrame.from_features(geoms) #Convert to Geopandas dataframe\n",
        "\n",
        "gdf.insert(0, 'New_ID', range(0, 0 + len(gdf)))\n",
        "\n",
        "gdf.head()\n",
        "\n",
        "gdf.set_crs(\"EPSG:5070\", inplace=True)\n",
        "gdf = gdf.to_crs('EPSG:4269')\n",
        "gdf.set_geometry(col='geometry', inplace=True)\n",
        "gdf['area'] = gdf.geometry.area\n",
        "gdf_good = gdf[gdf['area'] > .0000005]\n",
        "dic2 = {'DN': {0: 1,  1: 2,  2: 3,  3: 4,  4: 5,  5: 6,  6: 10,  7: 11,  8: 12,  9: 13,  10: 14,  11: 21,  12: 22,  13: 23,  14: 24,  15: 25,  16: 26,  17: 27,  18: 28,  19: 29,  20: 30,  21: 31,  22: 32,  23: 33,  24: 34,  25: 35,  26: 36,  27: 37,  28: 38,  29: 39,  30: 41,  31: 42,  32: 43,  33: 44,  34: 45,  35: 46,  36: 47,  37: 48,  38: 49,  39: 50,  40: 51,  41: 52,  42: 53,  43: 54,  44: 55,  45: 56,  46: 57,  47: 58,  48: 59,  49: 60,  50: 61,  51: 62,  52: 63,  53: 64,  54: 65,  55: 66,  56: 67,  57: 68,  58: 69,  59: 70,  60: 71,  61: 72,  62: 74,  63: 75,  64: 76,  65: 77,  66: 81,  67: 82,  68: 83,  69: 87,  70: 88,  71: 92,  72: 111,  73: 112,  74: 121,  75: 122,  76: 123,  77: 124,  78: 131,  79: 141,  80: 142,  81: 143,  82: 152,  83: 171,  84: 181,  85: 190,  86: 195,  87: 204,  88: 205,  89: 206,  90: 207,  91: 208,  92: 209,  93: 210,  94: 211,  95: 212,  96: 213,  97: 214,  98: 215,  99: 216,  100: 217,  101: 218,  102: 219,  103: 220,  104: 221,  105: 222,  106: 223,  107: 224,  108: 225,  109: 226,  110: 227,  111: 228,  112: 229,  113: 230,  114: 231,  115: 232,  116: 233,  117: 234,  118: 235,  119: 236,  120: 237,  121: 238,  122: 239,  123: 240,  124: 241,  125: 242,  126: 243,  127: 244,  128: 245,  129: 246,  130: 247,  131: 248,  132: 249,  133: 250,  134: 254}, \n",
        "        'Name': {0: 'Corn',  1: 'Cotton',  2: 'Rice',  3: 'Sorghum',  4: 'Soybeans',  5: 'Sunflower',  6: 'Peanuts',  7: 'Tobacco',  8: 'Sweet Corn',  9: 'Pop or Orn Corn',  10: 'Mint',  11: 'Barley',  12: 'Durum Wheat',  13: 'Spring Wheat',  14: 'Winter Wheat',  15: 'Other Small Grains',  16: 'Dbl Crop WinWht/Soybeans',  17: 'Rye',  18: 'Oats',  19: 'Millet',  20: 'Speltz',  21: 'Canola',  22: 'Flaxseed',  23: 'Safflower',  24: 'Rape Seed',  25: 'Mustard',  26: 'Alfalfa',  27: 'Other Hay/Non Alfalfa',  28: 'Camelina',  29: 'Buckwheat',  30: 'Sugarbeets',  31: 'Dry Beans',  32: 'Potatoes',  33: 'Other Crops',  34: 'Sugarcane',  35: 'Sweet Potatoes',  36: 'Misc Vegs &amp; Fruits',  37: 'Watermelons',  38: 'Onions',  39: 'Cucumbers',  40: 'Chick Peas',  41: 'Lentils',  42: 'Peas',  43: 'Tomatoes',  44: 'Caneberries',  45: 'Hops',  46: 'Herbs',  47: 'Clover/Wildflowers',  48: 'Sod/Grass Seed',  49: 'Switchgrass',  50: 'Fallow/Idle Cropland',  51: 'Pasture/Grass',  52: 'Forest',  53: 'Shrubland',  54: 'Barren',  55: 'Cherries',  56: 'Peaches',  57: 'Apples',  58: 'Grapes',  59: 'Christmas Trees',  60: 'Other Tree Crops',  61: 'Citrus',  62: 'Pecans',  63: 'Almonds',  64: 'Walnuts',  65: 'Pears',  66: 'Clouds/No Data',  67: 'Developed',  68: 'Water',  69: 'Wetlands',  70: 'Nonag/Undefined',  71: 'Aquaculture',  72: 'Open Water',  73: 'Perennial Ice/Snow',  74: 'Developed/Open Space',  75: 'Developed/Low Intensity',  76: 'Developed/Med Intensity',  77: 'Developed/High Intensity',  78: 'Barren',  79: 'Deciduous Forest',  80: 'Evergreen Forest',  81: 'Mixed Forest',  82: 'Shrubland',  83: 'Grassland Herbaceous',  84: 'Pasture/Hay',  85: 'Woody Wetlands',  86: 'Herbaceous Wetlands',  87: 'Pistachios',  88: 'Triticale',  89: 'Carrots',  90: 'Asparagus',  91: 'Garlic',  92: 'Cantaloupes',  93: 'Prunes',  94: 'Olives',  95: 'Oranges',  96: 'Honeydew Melons',  97: 'Broccoli',  98: 'Avocados',  99: 'Peppers',  100: 'Pomegranates',  101: 'Nectarines',  102: 'Greens',  103: 'Plums',  104: 'Strawberries',  105: 'Squash',  106: 'Apricots',  107: 'Vetch',  108: 'Dbl Crop WinWht/Corn',  109: 'Dbl Crop Oats/Corn',  110: 'Lettuce',  111: 'Dbl Crop Triticale/Corn',  112: 'Pumpkins',  113: 'Dbl Crop Lettuce/Durum Wht',  114: 'Dbl Crop Lettuce/Cantaloupe',  115: 'Dbl Crop Lettuce/Cotton',  116: 'Dbl Crop Lettuce/Barley',  117: 'Dbl Crop Durum Wht/Sorghum',  118: 'Dbl Crop Barley/Sorghum',  119: 'Dbl Crop WinWht/Sorghum',  120: 'Dbl Crop Barley/Corn',  121: 'Dbl Crop WinWht/Cotton',  122: 'Dbl Crop Soybeans/Cotton',  123: 'Dbl Crop Soybeans/Oats',  124: 'Dbl Crop Corn/Soybeans',  125: 'Blueberries',  126: 'Cabbage',  127: 'Cauliflower',  128: 'Celery',  129: 'Radishes',  130: 'Turnips',  131: 'Eggplants',  132: 'Gourds',  133: 'Cranberries',  134: 'Dbl Crop Barley/Soybeans'}}\n",
        "crop_list = pd.DataFrame.from_dict(dic2) \n",
        "gdf_good = gdf_good.merge(crop_list, on='DN')\n",
        "gdf_good.to_file(\"crops.geojson\", driver='GeoJSON')\n",
        "files.download('/content/crops.geojson')"
      ],
      "metadata": {
        "id": "WfMuAw-uXTrH",
        "colab": {
          "base_uri": "https://localhost:8080/",
          "height": 86
        },
        "outputId": "8d4cfa1e-04bd-40ef-bd22-0436d5f938cf"
      },
      "execution_count": null,
      "outputs": [
        {
          "output_type": "stream",
          "name": "stderr",
          "text": [
            "<ipython-input-4-bfe48cb73f8f>:38: UserWarning: Geometry is in a geographic CRS. Results from 'area' are likely incorrect. Use 'GeoSeries.to_crs()' to re-project geometries to a projected CRS before this operation.\n",
            "\n",
            "  gdf['area'] = gdf.geometry.area\n"
          ]
        },
        {
          "output_type": "display_data",
          "data": {
            "text/plain": [
              "<IPython.core.display.Javascript object>"
            ],
            "application/javascript": [
              "\n",
              "    async function download(id, filename, size) {\n",
              "      if (!google.colab.kernel.accessAllowed) {\n",
              "        return;\n",
              "      }\n",
              "      const div = document.createElement('div');\n",
              "      const label = document.createElement('label');\n",
              "      label.textContent = `Downloading \"${filename}\": `;\n",
              "      div.appendChild(label);\n",
              "      const progress = document.createElement('progress');\n",
              "      progress.max = size;\n",
              "      div.appendChild(progress);\n",
              "      document.body.appendChild(div);\n",
              "\n",
              "      const buffers = [];\n",
              "      let downloaded = 0;\n",
              "\n",
              "      const channel = await google.colab.kernel.comms.open(id);\n",
              "      // Send a message to notify the kernel that we're ready.\n",
              "      channel.send({})\n",
              "\n",
              "      for await (const message of channel.messages) {\n",
              "        // Send a message to notify the kernel that we're ready.\n",
              "        channel.send({})\n",
              "        if (message.buffers) {\n",
              "          for (const buffer of message.buffers) {\n",
              "            buffers.push(buffer);\n",
              "            downloaded += buffer.byteLength;\n",
              "            progress.value = downloaded;\n",
              "          }\n",
              "        }\n",
              "      }\n",
              "      const blob = new Blob(buffers, {type: 'application/binary'});\n",
              "      const a = document.createElement('a');\n",
              "      a.href = window.URL.createObjectURL(blob);\n",
              "      a.download = filename;\n",
              "      div.appendChild(a);\n",
              "      a.click();\n",
              "      div.remove();\n",
              "    }\n",
              "  "
            ]
          },
          "metadata": {}
        },
        {
          "output_type": "display_data",
          "data": {
            "text/plain": [
              "<IPython.core.display.Javascript object>"
            ],
            "application/javascript": [
              "download(\"download_2e9f15b4-c7c5-42b2-8071-cebc2eb259fa\", \"crops.geojson\", 33488773)"
            ]
          },
          "metadata": {}
        }
      ]
    },
    {
      "cell_type": "code",
      "source": [],
      "metadata": {
        "id": "dyYmFwBAjDDW"
      },
      "execution_count": null,
      "outputs": []
    },
    {
      "cell_type": "markdown",
      "source": [
        "## **Things below here are experimental and not needed.**"
      ],
      "metadata": {
        "id": "3Yc0vexeHRHj"
      }
    },
    {
      "cell_type": "code",
      "source": [
        "p = leafmap.Map(google_map=\"HYBRID\", center=[35.1176, -119.0615], zoom=9)\n",
        "#p.add_gdf(simple_wgs84_append, layer_name=\"DN\")\n",
        "p.add_gdf(simple_wgs84_good, layer_name=\"DN\")\n",
        "p.add_labels(\n",
        "    simple_wgs84_good,\n",
        "    \"DN\",\n",
        "    font_size=\"8pt\",\n",
        "    font_color=\"black\",\n",
        "    font_family=\"arial\",\n",
        "    font_weight=\"bold\"\n",
        ")\n",
        "p"
      ],
      "metadata": {
        "id": "9XOJhQ0k0-3e"
      },
      "execution_count": null,
      "outputs": []
    },
    {
      "cell_type": "code",
      "source": [
        "#New approach using topojson\n",
        "\n",
        "import gdal\n",
        "import ogr\n",
        "from google.colab import files\n",
        "\n",
        "raster = gdal.Open(r'nozero.tif')\n",
        "raster.RasterCount\n",
        "band = raster.GetRasterBand(1)\n",
        "drv = ogr.GetDriverByName('GeoJSON')\n",
        "outfile = drv.CreateDataSource(r'crop1.geojson') \n",
        "outlayer = outfile.CreateLayer('crops', srs = None )\n",
        "newField = ogr.FieldDefn('DN', ogr.OFTReal)\n",
        "outlayer.CreateField(newField)\n",
        "gdal.Polygonize(band, None, outlayer, 0, [])\n",
        "outfile = None\n"
      ],
      "metadata": {
        "id": "IdeyxHJpuLPe"
      },
      "execution_count": null,
      "outputs": []
    },
    {
      "cell_type": "code",
      "source": [
        "import topojson as tp\n",
        "import json\n",
        "with open(\"/content/crop1.geojson\", 'r') as f:\n",
        "    data = json.load(f)\n",
        "\n",
        "#assert data['type']) == 'FeatureCollection'\n",
        "topo = tp.Topology(data)\n",
        "simple = topo.toposimplify(4).to_gdf()"
      ],
      "metadata": {
        "id": "Fgz5YlgpBj3s"
      },
      "execution_count": null,
      "outputs": []
    },
    {
      "cell_type": "code",
      "source": [
        "simple = simple.set_crs(\"EPSG:5070\")\n",
        "simple_wgs84  = simple.to_crs('EPSG:4269')\n",
        "simple_wgs84['area'] = simple_wgs84.geometry.area\n",
        "simple_wgs84_good = simple_wgs84[simple_wgs84['area'] > .000005]"
      ],
      "metadata": {
        "id": "6FahM019_tpy"
      },
      "execution_count": null,
      "outputs": []
    },
    {
      "cell_type": "markdown",
      "metadata": {
        "id": "cG7_smNffkz8"
      },
      "source": [
        "Source for above cell: https://www.e-education.psu.edu/geog489/node/2215"
      ]
    },
    {
      "cell_type": "code",
      "source": [
        "#!ogr2ogr -s_srs EPSG:5070 -t_srs EPSG:4326 -f GPKG crop_4326.gpkg cropscape.gpkg"
      ],
      "metadata": {
        "id": "rK2aJH1QODjA"
      },
      "execution_count": null,
      "outputs": []
    },
    {
      "cell_type": "code",
      "source": [
        "#simple_wgs84_good"
      ],
      "metadata": {
        "id": "Cbnp7oi_UXcd"
      },
      "execution_count": null,
      "outputs": []
    },
    {
      "cell_type": "code",
      "execution_count": null,
      "metadata": {
        "id": "4SsqMFiWV8Ez"
      },
      "outputs": [],
      "source": [
        "import os\n",
        "import leafmap\n",
        "p = leafmap.Map(google_map=\"HYBRID\", center=[35.1176, -119.0615], zoom=9)\n",
        "p.add_gdf(simple_wgs84_good, layer_name=\"DN\")\n",
        "p.add_labels(\n",
        "    simple_wgs84_good,\n",
        "    \"DN\",\n",
        "    font_size=\"8pt\",\n",
        "    font_color=\"black\",\n",
        "    font_family=\"arial\",\n",
        "    font_weight=\"bold\"\n",
        ")\n",
        "p"
      ]
    },
    {
      "cell_type": "code",
      "execution_count": null,
      "metadata": {
        "id": "QNeqn8t8Ey-F"
      },
      "outputs": [],
      "source": [
        "m"
      ]
    },
    {
      "cell_type": "code",
      "execution_count": null,
      "metadata": {
        "id": "2Oje6bwPQQDD"
      },
      "outputs": [],
      "source": [
        "almonds = gdf[gdf['DN'] == 75]"
      ]
    },
    {
      "cell_type": "code",
      "execution_count": null,
      "metadata": {
        "id": "kRsUzbWUsEcn"
      },
      "outputs": [],
      "source": [
        "#Tile experiment - making tiles of image and making vector of each\n",
        "# All California: -2409339.999,2475047.395 -1454152.696,1098537.576\n",
        "#Gilroy, CA  = -2228302,1853050 -2197939,1827370\n",
        "\n",
        "import gdal\n",
        "import ogr\n",
        "from google.colab import files\n",
        "!gdal_translate -a_nodata 0 -projwin -2228302 1853050 -2197939 1827370 /content/2021_30m_cdls.tif tile.tif\n",
        "raster = gdal.Open(r'tile.tif')\n",
        "raster.RasterCount\n",
        "band = raster.GetRasterBand(1)\n",
        "drv = ogr.GetDriverByName('GeoJSON')\n",
        "outfile = drv.CreateDataSource(r'tile.geojson') \n",
        "outlayer = outfile.CreateLayer('crops', srs = None )\n",
        "newField = ogr.FieldDefn('DN', ogr.OFTReal)\n",
        "outlayer.CreateField(newField)\n",
        "gdal.Polygonize(band, None, outlayer, 0, [])\n",
        "outfile = None\n"
      ]
    },
    {
      "cell_type": "code",
      "execution_count": null,
      "metadata": {
        "colab": {
          "background_save": true,
          "referenced_widgets": [
            "9b4b61c476cb4c57997fa255ba73f27d"
          ]
        },
        "id": "TBUGoLSv40lh",
        "outputId": "bf406618-2e25-42ff-98a7-7e18505ed693"
      },
      "outputs": [
        {
          "data": {
            "application/vnd.jupyter.widget-view+json": {
              "model_id": "9b4b61c476cb4c57997fa255ba73f27d",
              "version_major": 2,
              "version_minor": 0
            },
            "text/plain": [
              "Map(center=[20, 0], controls=(ZoomControl(options=['position', 'zoom_in_text', 'zoom_in_title', 'zoom_out_text…"
            ]
          },
          "metadata": {
            "application/vnd.jupyter.widget-view+json": {
              "colab": {
                "custom_widget_manager": {
                  "url": "https://ssl.gstatic.com/colaboratory-static/widgets/colab-cdn-widget-manager/a8874ba6619b6106/manager.min.js"
                }
              }
            }
          },
          "output_type": "display_data"
        }
      ],
      "source": [
        "import os\n",
        "import leafmap\n",
        "import geopandas\n",
        "!ogr2ogr -s_srs EPSG:5070 -t_srs EPSG:4326 -f GeoJSON tile_4326.geojson tile.geojson\n",
        "tile = geopandas.read_file(\"/content/tile_4326.geojson\", layer='crops')\n",
        "tile['area'] = tile.geometry.area\n",
        "tile_large_area = tile[tile['area'] > .00000100]\n",
        "\n",
        "m = leafmap.Map(center=[0, 0], zoom=2)\n",
        "m = leafmap.Map()\n",
        "m.add_gdf(tile_large_area, layer_name=\"Crops\")\n",
        "m"
      ]
    },
    {
      "cell_type": "code",
      "execution_count": null,
      "metadata": {
        "id": "nPhJFNRr5fjE"
      },
      "outputs": [],
      "source": [
        "tile_large_area = tile[tile['area'] > .00000100]\n",
        "tile_large_area"
      ]
    },
    {
      "cell_type": "code",
      "source": [
        "p = leafmap.Map(google_map=\"HYBRID\", center=[35.1176, -119.0615], zoom=9)\n",
        "p.add_gdf(simple, layer_name=\"DN\")\n",
        "p.add_labels(\n",
        "    simple,\n",
        "    \"Name\",\n",
        "    font_size=\"8pt\",\n",
        "    font_color=\"black\",\n",
        "    font_family=\"arial\",\n",
        "    font_weight=\"bold\"\n",
        ")\n",
        "p"
      ],
      "metadata": {
        "id": "r-mtBgzNEBnK"
      },
      "execution_count": null,
      "outputs": []
    },
    {
      "cell_type": "code",
      "source": [
        "simple_wgs84_append = simple_wgs84_append.append(simple_wgs84_good)"
      ],
      "metadata": {
        "id": "X53d8iGuGV0b"
      },
      "execution_count": null,
      "outputs": []
    },
    {
      "cell_type": "code",
      "source": [
        "import pandas as pd\n",
        "#jj = pd.read_csv('/content/Cropscape_codes2.csv')"
      ],
      "metadata": {
        "id": "k936sXDKuHRk"
      },
      "execution_count": null,
      "outputs": []
    },
    {
      "cell_type": "code",
      "source": [
        "dic2 = {'DN': {0: 1,  1: 2,  2: 3,  3: 4,  4: 5,  5: 6,  6: 10,  7: 11,  8: 12,  9: 13,  10: 14,  11: 21,  12: 22,  13: 23,  14: 24,  15: 25,  16: 26,  17: 27,  18: 28,  19: 29,  20: 30,  21: 31,  22: 32,  23: 33,  24: 34,  25: 35,  26: 36,  27: 37,  28: 38,  29: 39,  30: 41,  31: 42,  32: 43,  33: 44,  34: 45,  35: 46,  36: 47,  37: 48,  38: 49,  39: 50,  40: 51,  41: 52,  42: 53,  43: 54,  44: 55,  45: 56,  46: 57,  47: 58,  48: 59,  49: 60,  50: 61,  51: 62,  52: 63,  53: 64,  54: 65,  55: 66,  56: 67,  57: 68,  58: 69,  59: 70,  60: 71,  61: 72,  62: 74,  63: 75,  64: 76,  65: 77,  66: 81,  67: 82,  68: 83,  69: 87,  70: 88,  71: 92,  72: 111,  73: 112,  74: 121,  75: 122,  76: 123,  77: 124,  78: 131,  79: 141,  80: 142,  81: 143,  82: 152,  83: 171,  84: 181,  85: 190,  86: 195,  87: 204,  88: 205,  89: 206,  90: 207,  91: 208,  92: 209,  93: 210,  94: 211,  95: 212,  96: 213,  97: 214,  98: 215,  99: 216,  100: 217,  101: 218,  102: 219,  103: 220,  104: 221,  105: 222,  106: 223,  107: 224,  108: 225,  109: 226,  110: 227,  111: 228,  112: 229,  113: 230,  114: 231,  115: 232,  116: 233,  117: 234,  118: 235,  119: 236,  120: 237,  121: 238,  122: 239,  123: 240,  124: 241,  125: 242,  126: 243,  127: 244,  128: 245,  129: 246,  130: 247,  131: 248,  132: 249,  133: 250,  134: 254}, \n",
        "        'Name': {0: 'Corn',  1: 'Cotton',  2: 'Rice',  3: 'Sorghum',  4: 'Soybeans',  5: 'Sunflower',  6: 'Peanuts',  7: 'Tobacco',  8: 'Sweet Corn',  9: 'Pop or Orn Corn',  10: 'Mint',  11: 'Barley',  12: 'Durum Wheat',  13: 'Spring Wheat',  14: 'Winter Wheat',  15: 'Other Small Grains',  16: 'Dbl Crop WinWht/Soybeans',  17: 'Rye',  18: 'Oats',  19: 'Millet',  20: 'Speltz',  21: 'Canola',  22: 'Flaxseed',  23: 'Safflower',  24: 'Rape Seed',  25: 'Mustard',  26: 'Alfalfa',  27: 'Other Hay/Non Alfalfa',  28: 'Camelina',  29: 'Buckwheat',  30: 'Sugarbeets',  31: 'Dry Beans',  32: 'Potatoes',  33: 'Other Crops',  34: 'Sugarcane',  35: 'Sweet Potatoes',  36: 'Misc Vegs &amp; Fruits',  37: 'Watermelons',  38: 'Onions',  39: 'Cucumbers',  40: 'Chick Peas',  41: 'Lentils',  42: 'Peas',  43: 'Tomatoes',  44: 'Caneberries',  45: 'Hops',  46: 'Herbs',  47: 'Clover/Wildflowers',  48: 'Sod/Grass Seed',  49: 'Switchgrass',  50: 'Fallow/Idle Cropland',  51: 'Pasture/Grass',  52: 'Forest',  53: 'Shrubland',  54: 'Barren',  55: 'Cherries',  56: 'Peaches',  57: 'Apples',  58: 'Grapes',  59: 'Christmas Trees',  60: 'Other Tree Crops',  61: 'Citrus',  62: 'Pecans',  63: 'Almonds',  64: 'Walnuts',  65: 'Pears',  66: 'Clouds/No Data',  67: 'Developed',  68: 'Water',  69: 'Wetlands',  70: 'Nonag/Undefined',  71: 'Aquaculture',  72: 'Open Water',  73: 'Perennial Ice/Snow',  74: 'Developed/Open Space',  75: 'Developed/Low Intensity',  76: 'Developed/Med Intensity',  77: 'Developed/High Intensity',  78: 'Barren',  79: 'Deciduous Forest',  80: 'Evergreen Forest',  81: 'Mixed Forest',  82: 'Shrubland',  83: 'Grassland Herbaceous',  84: 'Pasture/Hay',  85: 'Woody Wetlands',  86: 'Herbaceous Wetlands',  87: 'Pistachios',  88: 'Triticale',  89: 'Carrots',  90: 'Asparagus',  91: 'Garlic',  92: 'Cantaloupes',  93: 'Prunes',  94: 'Olives',  95: 'Oranges',  96: 'Honeydew Melons',  97: 'Broccoli',  98: 'Avocados',  99: 'Peppers',  100: 'Pomegranates',  101: 'Nectarines',  102: 'Greens',  103: 'Plums',  104: 'Strawberries',  105: 'Squash',  106: 'Apricots',  107: 'Vetch',  108: 'Dbl Crop WinWht/Corn',  109: 'Dbl Crop Oats/Corn',  110: 'Lettuce',  111: 'Dbl Crop Triticale/Corn',  112: 'Pumpkins',  113: 'Dbl Crop Lettuce/Durum Wht',  114: 'Dbl Crop Lettuce/Cantaloupe',  115: 'Dbl Crop Lettuce/Cotton',  116: 'Dbl Crop Lettuce/Barley',  117: 'Dbl Crop Durum Wht/Sorghum',  118: 'Dbl Crop Barley/Sorghum',  119: 'Dbl Crop WinWht/Sorghum',  120: 'Dbl Crop Barley/Corn',  121: 'Dbl Crop WinWht/Cotton',  122: 'Dbl Crop Soybeans/Cotton',  123: 'Dbl Crop Soybeans/Oats',  124: 'Dbl Crop Corn/Soybeans',  125: 'Blueberries',  126: 'Cabbage',  127: 'Cauliflower',  128: 'Celery',  129: 'Radishes',  130: 'Turnips',  131: 'Eggplants',  132: 'Gourds',  133: 'Cranberries',  134: 'Dbl Crop Barley/Soybeans'}}\n",
        "crop_list = pd.DataFrame.from_dict(dic2) \n",
        "simple = simple.merge(crop_list, on='DN')       "
      ],
      "metadata": {
        "id": "fJh39iopES1M"
      },
      "execution_count": null,
      "outputs": []
    },
    {
      "cell_type": "code",
      "source": [
        "#topo = tp.Topology(data)\n",
        "simple = topo.toposimplify(1).to_gdf()\n",
        "simple = simple.set_crs(\"EPSG:5070\")\n",
        "simple_wgs84  = simple.to_crs('EPSG:4269')\n",
        "simple_wgs84['area'] = simple_wgs84.geometry.area\n",
        "simple_wgs84_good = simple_wgs84[simple_wgs84['area'] > .000005]\n",
        "simple_wgs84_good = simple_wgs84_good.merge(crop_list, on='DN') \n",
        "p = leafmap.Map(google_map=\"HYBRID\", center=[35.1176, -119.0615], zoom=9)\n",
        "p.add_gdf(simple_wgs84_good, layer_name=\"DN\")\n",
        "p.add_labels(\n",
        "    simple_wgs84_good,\n",
        "    'Name',\n",
        "    font_size=\"8pt\",\n",
        "    font_color=\"white\",\n",
        "    font_family=\"arial\"\n",
        ")\n",
        "p"
      ],
      "metadata": {
        "id": "u5fQW2KPJggZ"
      },
      "execution_count": null,
      "outputs": []
    },
    {
      "cell_type": "code",
      "source": [
        "#All in one cell to see if it can work\n",
        "from time import sleep\n",
        "import gdal\n",
        "import ogr\n",
        "from google.colab import files\n",
        "import topojson as tp\n",
        "import json\n",
        "import os\n",
        "import leafmap\n",
        "\n",
        "#!gdal_translate -a_nodata 0 -projwin -2142052.102 1742202.181 -2121636.040 1722420.946 /content/2021_30m_cdls.tif nozero.tif\n",
        "!gdal_translate -a_nodata 0 -projwin -2228302 1853050 -2197939 1827370 /content/2021_30m_cdls.tif nozero.tif\n",
        "sleep(30)\n",
        "raster = gdal.Open(r'nozero.tif')\n",
        "raster.RasterCount\n",
        "band = raster.GetRasterBand(1)\n",
        "drv = ogr.GetDriverByName('GeoJSON')\n",
        "outfile = drv.CreateDataSource(r'crop1.geojson') \n",
        "outlayer = outfile.CreateLayer('crops', srs = None )\n",
        "newField = ogr.FieldDefn('DN', ogr.OFTReal)\n",
        "outlayer.CreateField(newField)\n",
        "gdal.Polygonize(band, None, outlayer, 0, [])\n",
        "outfile = None\n",
        "sleep(60)\n",
        "\n",
        "with open(\"/content/crop1.geojson\", 'r') as f:\n",
        "    data = json.load(f)\n",
        "\n",
        "topo = tp.Topology(data)\n",
        "simple = topo.toposimplify(4).to_gdf()\n",
        "simple = simple.set_crs(\"EPSG:5070\")\n",
        "simple_wgs84  = simple.to_crs('EPSG:4269')\n",
        "simple_wgs84['area'] = simple_wgs84.geometry.area\n",
        "simple_wgs84_good = simple_wgs84[simple_wgs84['area'] > .000005]\n",
        "#simple_wgs84_append = europe.append(asia)\n",
        "p = leafmap.Map(google_map=\"HYBRID\", center=[35.1176, -119.0615], zoom=9)\n",
        "#p.add_gdf(simple_wgs84_append, layer_name=\"DN\")\n",
        "p.add_gdf(simple_wgs84_good, layer_name=\"DN\")\n",
        "p.add_labels(\n",
        "    simple_wgs84_good,\n",
        "    \"DN\",\n",
        "    font_size=\"8pt\",\n",
        "    font_color=\"black\",\n",
        "    font_family=\"arial\",\n",
        "    font_weight=\"bold\"\n",
        ")\n",
        "p"
      ],
      "metadata": {
        "id": "LGAx6vH9AjuQ"
      },
      "execution_count": null,
      "outputs": []
    },
    {
      "cell_type": "code",
      "source": [
        "type(dic2)"
      ],
      "metadata": {
        "colab": {
          "base_uri": "https://localhost:8080/"
        },
        "id": "DadqLwljOAu4",
        "outputId": "beedeacf-c098-4388-8798-50eccc886cd1"
      },
      "execution_count": null,
      "outputs": [
        {
          "output_type": "execute_result",
          "data": {
            "text/plain": [
              "dict"
            ]
          },
          "metadata": {},
          "execution_count": 17
        }
      ]
    }
  ],
  "metadata": {
    "colab": {
      "machine_shape": "hm",
      "provenance": [],
      "authorship_tag": "ABX9TyNKw9Tx1KAjMT5clcoowYZ2",
      "include_colab_link": true
    },
    "kernelspec": {
      "display_name": "Python 3",
      "name": "python3"
    }
  },
  "nbformat": 4,
  "nbformat_minor": 0
}