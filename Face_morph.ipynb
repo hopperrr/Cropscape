{
  "nbformat": 4,
  "nbformat_minor": 0,
  "metadata": {
    "colab": {
      "provenance": [],
      "authorship_tag": "ABX9TyOEFX4c4HKrxomtfUGXI5Vj",
      "include_colab_link": true
    },
    "kernelspec": {
      "name": "python3",
      "display_name": "Python 3"
    },
    "language_info": {
      "name": "python"
    }
  },
  "cells": [
    {
      "cell_type": "markdown",
      "metadata": {
        "id": "view-in-github",
        "colab_type": "text"
      },
      "source": [
        "<a href=\"https://colab.research.google.com/github/hopperrr/Cropscape/blob/main/Face_morph.ipynb\" target=\"_parent\"><img src=\"https://colab.research.google.com/assets/colab-badge.svg\" alt=\"Open In Colab\"/></a>"
      ]
    },
    {
      "cell_type": "code",
      "execution_count": 1,
      "metadata": {
        "colab": {
          "base_uri": "https://localhost:8080/"
        },
        "id": "PMiFn-SgOa08",
        "outputId": "3c58d16a-4ffe-4eae-f7dc-613ba9a59506"
      },
      "outputs": [
        {
          "output_type": "stream",
          "name": "stdout",
          "text": [
            "Cloning into 'Face-Morphing'...\n",
            "remote: Enumerating objects: 70, done.\u001b[K\n",
            "remote: Counting objects: 100% (25/25), done.\u001b[K\n",
            "remote: Compressing objects: 100% (24/24), done.\u001b[K\n",
            "remote: Total 70 (delta 9), reused 4 (delta 1), pack-reused 45\u001b[K\n",
            "Unpacking objects: 100% (70/70), done.\n",
            "Checking out files: 100% (25/25), done.\n"
          ]
        }
      ],
      "source": [
        "!git clone https://github.com/hopperrr/Face-Morphing.git"
      ]
    },
    {
      "cell_type": "code",
      "source": [
        "!mkdir /content/Face-Morphing/raw_images\n",
        "!mkdir /content/Face-Morphing/aligned_images\n",
        "!mkdir /content/Face-Morphing/tmp_videos"
      ],
      "metadata": {
        "id": "t_VkFUD8PChP"
      },
      "execution_count": 4,
      "outputs": []
    },
    {
      "cell_type": "markdown",
      "source": [
        "Add images with faces to the \"raw_images\" folder"
      ],
      "metadata": {
        "id": "eo4FMUicZAFt"
      }
    },
    {
      "cell_type": "code",
      "source": [
        "%cd /content/Face-Morphing\n",
        "!python code/utils/align_images.py raw_images/ aligned_images/ --output_size=1024"
      ],
      "metadata": {
        "colab": {
          "base_uri": "https://localhost:8080/"
        },
        "id": "D43eVm6jOqDx",
        "outputId": "1734bf13-a010-428d-e2e2-dfc6a0da7a14"
      },
      "execution_count": 5,
      "outputs": [
        {
          "output_type": "stream",
          "name": "stdout",
          "text": [
            "/content/Face-Morphing\n",
            "Aligning 6chandelle.jpg ...\n",
            "Getting landmarks...\n",
            "Starting face alignment...\n",
            "Wrote result aligned_images/6chandelle_01.png\n",
            "Aligning 1al.jpg ...\n",
            "Getting landmarks...\n",
            "Starting face alignment...\n",
            "Wrote result aligned_images/1al_01.png\n",
            "Aligning 5andie.jpg ...\n",
            "Getting landmarks...\n",
            "Starting face alignment...\n",
            "Wrote result aligned_images/5andie_01.png\n",
            "Aligning 2eric.jpg ...\n",
            "Getting landmarks...\n",
            "Starting face alignment...\n",
            "Wrote result aligned_images/2eric_01.png\n",
            "Aligning 3laurie.jpg ...\n",
            "Getting landmarks...\n",
            "Starting face alignment...\n",
            "Wrote result aligned_images/3laurie_01.png\n",
            "Aligning 4chris.jpg ...\n",
            "Getting landmarks...\n",
            "Starting face alignment...\n",
            "Wrote result aligned_images/4chris_01.png\n"
          ]
        }
      ]
    },
    {
      "cell_type": "code",
      "source": [
        "!python code/__init__.py --folder aligned_images --output video_output.mp4 --duration 6"
      ],
      "metadata": {
        "id": "KJbQ2z4xR9kD"
      },
      "execution_count": null,
      "outputs": []
    }
  ]
}